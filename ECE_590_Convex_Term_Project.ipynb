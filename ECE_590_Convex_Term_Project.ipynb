{
  "nbformat": 4,
  "nbformat_minor": 0,
  "metadata": {
    "colab": {
      "provenance": [],
      "gpuType": "T4"
    },
    "kernelspec": {
      "name": "python3",
      "display_name": "Python 3"
    },
    "language_info": {
      "name": "python"
    },
    "accelerator": "GPU"
  },
  "cells": [
    {
      "cell_type": "code",
      "execution_count": 2,
      "metadata": {
        "id": "7XNa80Kaf7hL"
      },
      "outputs": [],
      "source": [
        "import numpy as np\n",
        "import torchvision\n",
        "import torch\n",
        "from torch import nn\n",
        "import torch.optim as optim\n",
        "from torch.utils.data import Dataset, DataLoader\n",
        "from torch.autograd import Variable\n",
        "import torchvision.transforms as transforms\n",
        "from torch.utils.data import random_split\n",
        "import torchvision.datasets as dset\n",
        "import torch.nn.functional as F\n",
        "import matplotlib.pyplot as plt\n",
        "import time"
      ]
    },
    {
      "cell_type": "code",
      "source": [
        "from google.colab import drive\n",
        "drive.mount('/content/drive')"
      ],
      "metadata": {
        "colab": {
          "base_uri": "https://localhost:8080/"
        },
        "id": "XC7o2brl0BWE",
        "outputId": "4361eaab-1bd4-490d-d8fc-87374d862a97"
      },
      "execution_count": 3,
      "outputs": [
        {
          "output_type": "stream",
          "name": "stdout",
          "text": [
            "Mounted at /content/drive\n"
          ]
        }
      ]
    },
    {
      "cell_type": "code",
      "source": [
        "device = torch.device(\"cuda\" if torch.cuda.is_available() else \"cpu\")\n",
        "\n",
        "# Define a simple neural network model\n",
        "class Net(nn.Module):\n",
        "    def __init__(self):\n",
        "        super().__init__()\n",
        "        self.flatten = nn.Flatten()\n",
        "        self.linear_relu_stack = nn.Sequential(\n",
        "            nn.Linear(28*28, 500),\n",
        "            nn.ReLU(),\n",
        "            nn.Linear(500, 20),\n",
        "            nn.ReLU(),\n",
        "            nn.Linear(20, 10)\n",
        "        )\n",
        "    def forward(self, x):\n",
        "        x = self.flatten(x)\n",
        "        logits = self.linear_relu_stack(x)\n",
        "        return logits"
      ],
      "metadata": {
        "id": "2sqOLrxBDEPD"
      },
      "execution_count": 4,
      "outputs": []
    },
    {
      "cell_type": "code",
      "source": [
        "# Load MNIST train, val, and test data\n",
        "trans = transforms.Compose([transforms.ToTensor(), torchvision.transforms.Normalize((0.1307,), (0.3081,))]) # normalize transform\n",
        "mnist = dset.MNIST(root='/content/drive/MyDrive', train=True, download=True, transform=trans)\n",
        "test = dset.MNIST(root='/content/drive/MyDrive', train=False, download=True, transform=trans)\n",
        "#train, val = random_split(mnist, [50000, 10000])\n",
        "#val_loader = torch.utils.data.DataLoader(val, batch_size=len(val), shuffle=False)\n"
      ],
      "metadata": {
        "id": "qX94K7ic0EIH"
      },
      "execution_count": 5,
      "outputs": []
    },
    {
      "cell_type": "code",
      "source": [
        "# Load data and set batch size\n",
        "batch_size = 32\n",
        "train_loader = torch.utils.data.DataLoader(mnist, batch_size=batch_size, shuffle=True)\n",
        "test_loader = torch.utils.data.DataLoader(test, batch_size=batch_size, shuffle=False)\n",
        "\n",
        "# Instantiate the model\n",
        "model = Net().to(device)\n",
        "#print(model)\n",
        "\n",
        "# Train model\n",
        "loss_train = train_model(model, train_loader, lr=0.01, epochs=20, optimizer=0)\n",
        "test_model(model, test_loader)"
      ],
      "metadata": {
        "colab": {
          "base_uri": "https://localhost:8080/"
        },
        "id": "4ozuzUlmmP1a",
        "outputId": "5b98a325-38c0-4e43-c368-2c3e56cd986e"
      },
      "execution_count": 21,
      "outputs": [
        {
          "output_type": "stream",
          "name": "stdout",
          "text": [
            "Epoch [1/20], Loss: 0.3337695002555847\n",
            "Epoch [2/20], Loss: 0.24771486222743988\n",
            "Epoch [3/20], Loss: 0.1922551691532135\n",
            "Epoch [4/20], Loss: 0.07246838510036469\n",
            "Epoch [5/20], Loss: 0.08376633375883102\n",
            "Epoch [6/20], Loss: 0.22390013933181763\n",
            "Epoch [7/20], Loss: 0.03679385408759117\n",
            "Epoch [8/20], Loss: 0.08285542577505112\n",
            "Epoch [9/20], Loss: 0.01561457198113203\n",
            "Epoch [10/20], Loss: 0.0593804195523262\n",
            "Epoch [11/20], Loss: 0.09138298034667969\n",
            "Epoch [12/20], Loss: 0.019503168761730194\n",
            "Epoch [13/20], Loss: 0.07253731042146683\n",
            "Epoch [14/20], Loss: 0.030977245420217514\n",
            "Epoch [15/20], Loss: 0.03019643947482109\n",
            "Epoch [16/20], Loss: 0.0027266161050647497\n",
            "Epoch [17/20], Loss: 0.013621581718325615\n",
            "Epoch [18/20], Loss: 0.01007771585136652\n",
            "Epoch [19/20], Loss: 0.01768166944384575\n",
            "Epoch [20/20], Loss: 0.017162995412945747\n",
            "training time: 302.116423368454\n",
            "Accuracy on the test set: 97.93%\n"
          ]
        }
      ]
    },
    {
      "cell_type": "code",
      "source": [
        "def train_model(model, train_loader, lr=0.001, epochs=30, optimizer=0, scheduler=False):\n",
        "  # Define loss function\n",
        "  criterion = nn.CrossEntropyLoss()\n",
        "\n",
        "  # Training the model\n",
        "  loss_train_arr=np.zeros(epochs)\n",
        "  #batch_size = 64\n",
        "  if (optimizer==0): #SGD\n",
        "    optimizer = torch.optim.SGD(model.parameters(), lr=lr)\n",
        "  elif (optimizer==1): #Adam\n",
        "    optimizer = torch.optim.Adam(model.parameters(), lr=lr)\n",
        "  elif (optimizer==2): #Adagrad\n",
        "    optimizer = torch.optim.Adagrad(model.parameters(), lr=lr)\n",
        "  else: #RMSProp\n",
        "    optimizer = torch.optim.RMSprop(model.parameters(), lr=lr)\n",
        "\n",
        "  # Scheduler for learning rate decay (barebones line-search)\n",
        "  if (scheduler): scheduler = optim.lr_scheduler.StepLR(optimizer, step_size=10, gamma=0.5)\n",
        "\n",
        "  start_time = time.time()\n",
        "  for i in range(epochs):\n",
        "    loss_train=0\n",
        "    model.train()\n",
        "    for batch, (images, labels) in enumerate(train_loader):\n",
        "\n",
        "      # Move to GPU\n",
        "      images = images.to(device)\n",
        "      labels = labels.to(device)\n",
        "\n",
        "      # Zero gradient\n",
        "      optimizer.zero_grad()\n",
        "\n",
        "      # Forward pass\n",
        "      outputs = model(images)\n",
        "      loss = criterion(outputs, labels)\n",
        "\n",
        "      # Backward pass\n",
        "      loss.backward()\n",
        "\n",
        "      # Update weights\n",
        "      optimizer.step()\n",
        "\n",
        "\n",
        "    if (scheduler): scheduler.step()\n",
        "    print(f\"Epoch [{i+1}/\"+str(epochs)+f\"], Loss: {loss.item()}\")\n",
        "    loss_train_arr[i] = loss.item()\n",
        "\n",
        "  training_time = time.time() - start_time\n",
        "  print('training time: ' + str(training_time))\n",
        "\n",
        "  return loss_train_arr\n"
      ],
      "metadata": {
        "id": "FGyOMq9UgRc8"
      },
      "execution_count": 18,
      "outputs": []
    },
    {
      "cell_type": "code",
      "source": [
        "def test_model(model, test_loader):\n",
        "  with torch.no_grad():\n",
        "      correct = 0\n",
        "      total = 0\n",
        "      for images, labels in test_loader:\n",
        "          images = images.to(device)\n",
        "          labels = labels.to(device)\n",
        "          outputs = model(images)\n",
        "          _, predicted = torch.max(outputs.data, 1)\n",
        "          total += labels.size(0)\n",
        "          correct += (predicted == labels).sum().item()\n",
        "\n",
        "      print(f\"Accuracy on the test set: {(100 * correct / total):.2f}%\")"
      ],
      "metadata": {
        "id": "1cxvr9BVIm8f"
      },
      "execution_count": 8,
      "outputs": []
    },
    {
      "cell_type": "code",
      "source": [
        "with torch.no_grad():\n",
        "    correct = 0\n",
        "    total = 0\n",
        "    for images, labels in train_loader:\n",
        "        images = images.to(device)\n",
        "        labels = labels.to(device)\n",
        "        outputs = model(images)\n",
        "        _, predicted = torch.max(outputs.data, 1)\n",
        "        total += labels.size(0)\n",
        "        correct += (predicted == labels).sum().item()\n",
        "\n",
        "    print(f\"Accuracy on the train set: {(100 * correct / total):.2f}%\")"
      ],
      "metadata": {
        "colab": {
          "base_uri": "https://localhost:8080/"
        },
        "id": "zNlRWLCI2NqM",
        "outputId": "2fc96f09-5e3f-41ed-da44-37d4bffa5048"
      },
      "execution_count": 101,
      "outputs": [
        {
          "output_type": "stream",
          "name": "stdout",
          "text": [
            "Accuracy on the train set: 9.31%\n"
          ]
        }
      ]
    },
    {
      "cell_type": "code",
      "source": [
        "epoch = np.arange(20)+1\n",
        "\n",
        "\n",
        "plt.plot(epoch, loss_train)\n",
        "plt.title(\"mini batch GD, batch = 32\")\n",
        "plt.ylabel(\"Loss\")\n",
        "plt.xlabel(\"Epoch\")\n"
      ],
      "metadata": {
        "colab": {
          "base_uri": "https://localhost:8080/",
          "height": 509
        },
        "id": "ga0c8b1JV9wG",
        "outputId": "3cd46dee-ccad-422f-9742-131b7f863fe6"
      },
      "execution_count": 22,
      "outputs": [
        {
          "output_type": "execute_result",
          "data": {
            "text/plain": [
              "Text(0.5, 0, 'Epoch')"
            ]
          },
          "metadata": {},
          "execution_count": 22
        },
        {
          "output_type": "display_data",
          "data": {
            "text/plain": [
              "<Figure size 640x480 with 1 Axes>"
            ],
            "image/png": "[encoded data removed]"
          },
          "metadata": {}
        }
      ]
    }
  ]
}